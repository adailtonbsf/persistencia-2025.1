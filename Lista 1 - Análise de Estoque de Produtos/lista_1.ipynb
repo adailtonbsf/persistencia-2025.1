{
 "cells": [
  {
   "cell_type": "markdown",
   "id": "bdec8a3b",
   "metadata": {},
   "source": [
    "# Lista 1 - Análise de Estoque de Produtos\n",
    "\n",
    "Você recebeu um arquivo chamado **estoque.csv**, que contém dados atualizados sobre o estoque de produtos de uma empresa. Cada linha do arquivo representa um registro de um produto no estoque, com as seguintes colunas:\n",
    "* Data_Atualizacao: Data da última atualização do estoque (formato dd/mm/yyyy).\n",
    "* Produto: Nome do produto.\n",
    "* Categoria: Categoria do produto (ex: Alimentos, Eletrônicos, Higiene).\n",
    "* Quantidade: Quantidade disponível no estoque.\n",
    "* Preco_Unitario: Preço unitário do produto."
   ]
  },
  {
   "cell_type": "code",
   "execution_count": 44,
   "id": "8e010845",
   "metadata": {},
   "outputs": [],
   "source": [
    "import pandas as pd\n",
    "import matplotlib.pyplot as plt"
   ]
  },
  {
   "cell_type": "markdown",
   "id": "af14e8b5",
   "metadata": {},
   "source": [
    "### 1. Carregar o CSV\n",
    "\n",
    "* Leia o arquivo estoque.csv para um DataFrame utilizando a biblioteca pandas."
   ]
  },
  {
   "cell_type": "code",
   "execution_count": 45,
   "id": "b981a2c2",
   "metadata": {},
   "outputs": [
    {
     "data": {
      "text/html": [
       "<div>\n",
       "<style scoped>\n",
       "    .dataframe tbody tr th:only-of-type {\n",
       "        vertical-align: middle;\n",
       "    }\n",
       "\n",
       "    .dataframe tbody tr th {\n",
       "        vertical-align: top;\n",
       "    }\n",
       "\n",
       "    .dataframe thead th {\n",
       "        text-align: right;\n",
       "    }\n",
       "</style>\n",
       "<table border=\"1\" class=\"dataframe\">\n",
       "  <thead>\n",
       "    <tr style=\"text-align: right;\">\n",
       "      <th></th>\n",
       "      <th>Data_Atualizacao</th>\n",
       "      <th>Produto</th>\n",
       "      <th>Categoria</th>\n",
       "      <th>Quantidade</th>\n",
       "      <th>Preco_Unitario</th>\n",
       "    </tr>\n",
       "  </thead>\n",
       "  <tbody>\n",
       "    <tr>\n",
       "      <th>0</th>\n",
       "      <td>29/03/2023</td>\n",
       "      <td>Monitor</td>\n",
       "      <td>Eletrônicos</td>\n",
       "      <td>97</td>\n",
       "      <td>398.63</td>\n",
       "    </tr>\n",
       "    <tr>\n",
       "      <th>1</th>\n",
       "      <td>30/08/2023</td>\n",
       "      <td>Desodorante</td>\n",
       "      <td>Higiene</td>\n",
       "      <td>45</td>\n",
       "      <td>272.30</td>\n",
       "    </tr>\n",
       "    <tr>\n",
       "      <th>2</th>\n",
       "      <td>07/12/2023</td>\n",
       "      <td>Arroz</td>\n",
       "      <td>Alimentos</td>\n",
       "      <td>34</td>\n",
       "      <td>487.97</td>\n",
       "    </tr>\n",
       "    <tr>\n",
       "      <th>3</th>\n",
       "      <td>15/07/2023</td>\n",
       "      <td>Sabão em Pó</td>\n",
       "      <td>Limpeza</td>\n",
       "      <td>181</td>\n",
       "      <td>419.03</td>\n",
       "    </tr>\n",
       "    <tr>\n",
       "      <th>4</th>\n",
       "      <td>14/08/2023</td>\n",
       "      <td>Notebook</td>\n",
       "      <td>Eletrônicos</td>\n",
       "      <td>87</td>\n",
       "      <td>458.93</td>\n",
       "    </tr>\n",
       "  </tbody>\n",
       "</table>\n",
       "</div>"
      ],
      "text/plain": [
       "  Data_Atualizacao      Produto    Categoria  Quantidade  Preco_Unitario\n",
       "0       29/03/2023      Monitor  Eletrônicos          97          398.63\n",
       "1       30/08/2023  Desodorante      Higiene          45          272.30\n",
       "2       07/12/2023        Arroz    Alimentos          34          487.97\n",
       "3       15/07/2023  Sabão em Pó      Limpeza         181          419.03\n",
       "4       14/08/2023     Notebook  Eletrônicos          87          458.93"
      ]
     },
     "execution_count": 45,
     "metadata": {},
     "output_type": "execute_result"
    }
   ],
   "source": [
    "df = pd.read_csv('estoque.csv')\n",
    "df.head()"
   ]
  },
  {
   "cell_type": "markdown",
   "id": "d78cb042",
   "metadata": {},
   "source": [
    "### 2. Calcular o valor total por produto\n",
    "* Crie uma nova coluna chamada Valor_Estoque, que representa o valor total do produto em estoque (Quantidade * Preco_Unitario).\n",
    "* Agrupe os dados por **Produto** e calcule o valor total de estoque para cada um."
   ]
  },
  {
   "cell_type": "code",
   "execution_count": 46,
   "id": "745ab2fe",
   "metadata": {},
   "outputs": [
    {
     "data": {
      "text/plain": [
       "Produto\n",
       "Arroz               719645.46\n",
       "Açúcar              479149.04\n",
       "Café                476571.30\n",
       "Desinfetante        748190.68\n",
       "Desodorante         874621.57\n",
       "Detergente          828664.61\n",
       "Esponja             674606.56\n",
       "Feijão              630808.55\n",
       "Fone de Ouvido     1136656.38\n",
       "Macarrão            446597.93\n",
       "Monitor             943618.36\n",
       "Mouse               867674.57\n",
       "Notebook            653612.95\n",
       "Papel Higiênico     891702.11\n",
       "Pasta de Dente      682512.97\n",
       "Sabonete            849113.83\n",
       "Sabão em Pó         720774.22\n",
       "Sal                 630364.31\n",
       "Shampoo             940249.54\n",
       "Teclado             876115.11\n",
       "Água Sanitária      832433.27\n",
       "Name: Valor_Estoque, dtype: float64"
      ]
     },
     "execution_count": 46,
     "metadata": {},
     "output_type": "execute_result"
    }
   ],
   "source": [
    "df['Valor_Estoque'] = df['Quantidade'] * df['Preco_Unitario']\n",
    "valor_total = df.groupby('Produto')['Valor_Estoque'].sum()\n",
    "valor_total"
   ]
  },
  {
   "cell_type": "markdown",
   "id": "65d49926",
   "metadata": {},
   "source": [
    "### 3. Filtrar produtos com baixo estoque\n",
    "* Filtre todos os produtos cuja **quantidade seja menor que 10 unidades**.\n",
    "* Crie um DataFrame separado com esses produtos para posterior análise."
   ]
  },
  {
   "cell_type": "code",
   "execution_count": 47,
   "id": "a02ace74",
   "metadata": {},
   "outputs": [
    {
     "data": {
      "text/html": [
       "<div>\n",
       "<style scoped>\n",
       "    .dataframe tbody tr th:only-of-type {\n",
       "        vertical-align: middle;\n",
       "    }\n",
       "\n",
       "    .dataframe tbody tr th {\n",
       "        vertical-align: top;\n",
       "    }\n",
       "\n",
       "    .dataframe thead th {\n",
       "        text-align: right;\n",
       "    }\n",
       "</style>\n",
       "<table border=\"1\" class=\"dataframe\">\n",
       "  <thead>\n",
       "    <tr style=\"text-align: right;\">\n",
       "      <th></th>\n",
       "      <th>Data_Atualizacao</th>\n",
       "      <th>Produto</th>\n",
       "      <th>Categoria</th>\n",
       "      <th>Quantidade</th>\n",
       "      <th>Preco_Unitario</th>\n",
       "      <th>Valor_Estoque</th>\n",
       "    </tr>\n",
       "  </thead>\n",
       "  <tbody>\n",
       "    <tr>\n",
       "      <th>30</th>\n",
       "      <td>08/12/2023</td>\n",
       "      <td>Notebook</td>\n",
       "      <td>Eletrônicos</td>\n",
       "      <td>6</td>\n",
       "      <td>54.61</td>\n",
       "      <td>327.66</td>\n",
       "    </tr>\n",
       "    <tr>\n",
       "      <th>35</th>\n",
       "      <td>02/02/2023</td>\n",
       "      <td>Mouse</td>\n",
       "      <td>Eletrônicos</td>\n",
       "      <td>4</td>\n",
       "      <td>393.09</td>\n",
       "      <td>1572.36</td>\n",
       "    </tr>\n",
       "    <tr>\n",
       "      <th>47</th>\n",
       "      <td>21/03/2023</td>\n",
       "      <td>Papel Higiênico</td>\n",
       "      <td>Higiene</td>\n",
       "      <td>3</td>\n",
       "      <td>317.44</td>\n",
       "      <td>952.32</td>\n",
       "    </tr>\n",
       "    <tr>\n",
       "      <th>79</th>\n",
       "      <td>27/03/2023</td>\n",
       "      <td>Água Sanitária</td>\n",
       "      <td>Limpeza</td>\n",
       "      <td>9</td>\n",
       "      <td>305.53</td>\n",
       "      <td>2749.77</td>\n",
       "    </tr>\n",
       "    <tr>\n",
       "      <th>102</th>\n",
       "      <td>26/11/2023</td>\n",
       "      <td>Arroz</td>\n",
       "      <td>Alimentos</td>\n",
       "      <td>2</td>\n",
       "      <td>423.23</td>\n",
       "      <td>846.46</td>\n",
       "    </tr>\n",
       "    <tr>\n",
       "      <th>130</th>\n",
       "      <td>24/09/2023</td>\n",
       "      <td>Sabão em Pó</td>\n",
       "      <td>Limpeza</td>\n",
       "      <td>7</td>\n",
       "      <td>463.33</td>\n",
       "      <td>3243.31</td>\n",
       "    </tr>\n",
       "    <tr>\n",
       "      <th>143</th>\n",
       "      <td>25/09/2023</td>\n",
       "      <td>Papel Higiênico</td>\n",
       "      <td>Higiene</td>\n",
       "      <td>3</td>\n",
       "      <td>495.82</td>\n",
       "      <td>1487.46</td>\n",
       "    </tr>\n",
       "    <tr>\n",
       "      <th>152</th>\n",
       "      <td>03/07/2023</td>\n",
       "      <td>Esponja</td>\n",
       "      <td>Limpeza</td>\n",
       "      <td>9</td>\n",
       "      <td>93.36</td>\n",
       "      <td>840.24</td>\n",
       "    </tr>\n",
       "    <tr>\n",
       "      <th>176</th>\n",
       "      <td>10/11/2023</td>\n",
       "      <td>Fone de Ouvido</td>\n",
       "      <td>Eletrônicos</td>\n",
       "      <td>8</td>\n",
       "      <td>43.73</td>\n",
       "      <td>349.84</td>\n",
       "    </tr>\n",
       "    <tr>\n",
       "      <th>355</th>\n",
       "      <td>01/02/2023</td>\n",
       "      <td>Açúcar</td>\n",
       "      <td>Alimentos</td>\n",
       "      <td>9</td>\n",
       "      <td>410.30</td>\n",
       "      <td>3692.70</td>\n",
       "    </tr>\n",
       "    <tr>\n",
       "      <th>405</th>\n",
       "      <td>22/09/2023</td>\n",
       "      <td>Feijão</td>\n",
       "      <td>Alimentos</td>\n",
       "      <td>6</td>\n",
       "      <td>263.43</td>\n",
       "      <td>1580.58</td>\n",
       "    </tr>\n",
       "    <tr>\n",
       "      <th>420</th>\n",
       "      <td>28/07/2023</td>\n",
       "      <td>Detergente</td>\n",
       "      <td>Limpeza</td>\n",
       "      <td>1</td>\n",
       "      <td>324.69</td>\n",
       "      <td>324.69</td>\n",
       "    </tr>\n",
       "    <tr>\n",
       "      <th>456</th>\n",
       "      <td>02/05/2023</td>\n",
       "      <td>Detergente</td>\n",
       "      <td>Limpeza</td>\n",
       "      <td>2</td>\n",
       "      <td>46.39</td>\n",
       "      <td>92.78</td>\n",
       "    </tr>\n",
       "    <tr>\n",
       "      <th>463</th>\n",
       "      <td>09/01/2023</td>\n",
       "      <td>Água Sanitária</td>\n",
       "      <td>Limpeza</td>\n",
       "      <td>7</td>\n",
       "      <td>291.80</td>\n",
       "      <td>2042.60</td>\n",
       "    </tr>\n",
       "    <tr>\n",
       "      <th>495</th>\n",
       "      <td>24/11/2023</td>\n",
       "      <td>Sabão em Pó</td>\n",
       "      <td>Limpeza</td>\n",
       "      <td>9</td>\n",
       "      <td>293.84</td>\n",
       "      <td>2644.56</td>\n",
       "    </tr>\n",
       "    <tr>\n",
       "      <th>524</th>\n",
       "      <td>19/05/2023</td>\n",
       "      <td>Pasta de Dente</td>\n",
       "      <td>Higiene</td>\n",
       "      <td>9</td>\n",
       "      <td>165.11</td>\n",
       "      <td>1485.99</td>\n",
       "    </tr>\n",
       "    <tr>\n",
       "      <th>541</th>\n",
       "      <td>12/10/2023</td>\n",
       "      <td>Fone de Ouvido</td>\n",
       "      <td>Eletrônicos</td>\n",
       "      <td>4</td>\n",
       "      <td>58.37</td>\n",
       "      <td>233.48</td>\n",
       "    </tr>\n",
       "    <tr>\n",
       "      <th>586</th>\n",
       "      <td>13/05/2023</td>\n",
       "      <td>Desodorante</td>\n",
       "      <td>Higiene</td>\n",
       "      <td>9</td>\n",
       "      <td>391.84</td>\n",
       "      <td>3526.56</td>\n",
       "    </tr>\n",
       "  </tbody>\n",
       "</table>\n",
       "</div>"
      ],
      "text/plain": [
       "    Data_Atualizacao          Produto    Categoria  Quantidade  \\\n",
       "30        08/12/2023         Notebook  Eletrônicos           6   \n",
       "35        02/02/2023            Mouse  Eletrônicos           4   \n",
       "47        21/03/2023  Papel Higiênico      Higiene           3   \n",
       "79        27/03/2023   Água Sanitária      Limpeza           9   \n",
       "102       26/11/2023            Arroz    Alimentos           2   \n",
       "130       24/09/2023      Sabão em Pó      Limpeza           7   \n",
       "143       25/09/2023  Papel Higiênico      Higiene           3   \n",
       "152       03/07/2023          Esponja      Limpeza           9   \n",
       "176       10/11/2023   Fone de Ouvido  Eletrônicos           8   \n",
       "355       01/02/2023           Açúcar    Alimentos           9   \n",
       "405       22/09/2023           Feijão    Alimentos           6   \n",
       "420       28/07/2023       Detergente      Limpeza           1   \n",
       "456       02/05/2023       Detergente      Limpeza           2   \n",
       "463       09/01/2023   Água Sanitária      Limpeza           7   \n",
       "495       24/11/2023      Sabão em Pó      Limpeza           9   \n",
       "524       19/05/2023   Pasta de Dente      Higiene           9   \n",
       "541       12/10/2023   Fone de Ouvido  Eletrônicos           4   \n",
       "586       13/05/2023      Desodorante      Higiene           9   \n",
       "\n",
       "     Preco_Unitario  Valor_Estoque  \n",
       "30            54.61         327.66  \n",
       "35           393.09        1572.36  \n",
       "47           317.44         952.32  \n",
       "79           305.53        2749.77  \n",
       "102          423.23         846.46  \n",
       "130          463.33        3243.31  \n",
       "143          495.82        1487.46  \n",
       "152           93.36         840.24  \n",
       "176           43.73         349.84  \n",
       "355          410.30        3692.70  \n",
       "405          263.43        1580.58  \n",
       "420          324.69         324.69  \n",
       "456           46.39          92.78  \n",
       "463          291.80        2042.60  \n",
       "495          293.84        2644.56  \n",
       "524          165.11        1485.99  \n",
       "541           58.37         233.48  \n",
       "586          391.84        3526.56  "
      ]
     },
     "execution_count": 47,
     "metadata": {},
     "output_type": "execute_result"
    }
   ],
   "source": [
    "baixo_estoque = df[(df['Quantidade'] < 10)]\n",
    "baixo_estoque"
   ]
  },
  {
   "cell_type": "markdown",
   "id": "b1ad5573",
   "metadata": {},
   "source": [
    "### 4. Salvar os resultados\n",
    "* Exporte os produtos com baixo estoque para um novo arquivo CSV chamado estoque_baixo.csv.\n",
    "* Salve o valor total por produto em uma planilha Excel chamada valor_total_estoque.xlsx, onde cada aba representa uma categoria de produto, com os produtos e seus respectivos valores."
   ]
  },
  {
   "cell_type": "code",
   "execution_count": 48,
   "id": "1b99781b",
   "metadata": {},
   "outputs": [],
   "source": [
    "baixo_estoque.to_csv('estoque_baixo.csv')\n",
    "with pd.ExcelWriter('valor_total_estoque.xlsx') as writer:\n",
    "    for categoria in df['Categoria'].unique():\n",
    "        df_categoria = df[df['Categoria'] == categoria]\n",
    "        valor_categoria = df_categoria.groupby('Produto')['Valor_Estoque'].sum()\n",
    "        valor_categoria.to_excel(writer, sheet_name=categoria)"
   ]
  },
  {
   "cell_type": "markdown",
   "id": "0659a47c",
   "metadata": {},
   "source": [
    "### 5. Identificar o produto mais valioso por categoria\n",
    "* Para cada categoria, identifique o produto com o maior valor total de estoque.\n",
    "* Crie um DataFrame contendo: Categoria, Produto, Valor_Estoque."
   ]
  },
  {
   "cell_type": "code",
   "execution_count": 49,
   "id": "68097825",
   "metadata": {},
   "outputs": [
    {
     "name": "stdout",
     "output_type": "stream",
     "text": [
      "       Categoria     Produto  Valor_Estoque\n",
      "383  Eletrônicos    Notebook       90268.20\n",
      "278      Higiene    Sabonete       92627.24\n",
      "518    Alimentos      Açúcar       81886.09\n",
      "184      Limpeza  Detergente       83029.62\n"
     ]
    },
    {
     "name": "stderr",
     "output_type": "stream",
     "text": [
      "C:\\Users\\adail\\AppData\\Local\\Temp\\ipykernel_2628\\4275830553.py:5: FutureWarning: The behavior of DataFrame concatenation with empty or all-NA entries is deprecated. In a future version, this will no longer exclude empty or all-NA columns when determining the result dtypes. To retain the old behavior, exclude the relevant entries before the concat operation.\n",
      "  df_valioso = pd.concat([df_valioso, produto_valioso[['Categoria', 'Produto', 'Valor_Estoque']]])\n"
     ]
    }
   ],
   "source": [
    "df_valioso = pd.DataFrame(columns=['Categoria', 'Produto', 'Valor_Estoque'])\n",
    "for categoria in df['Categoria'].unique():\n",
    "    df_categoria = df[df['Categoria'] == categoria]\n",
    "    produto_valioso = df_categoria[df_categoria['Valor_Estoque'] == df_categoria['Valor_Estoque'].max()]\n",
    "    df_valioso = pd.concat([df_valioso, produto_valioso[['Categoria', 'Produto', 'Valor_Estoque']]])\n",
    "\n",
    "print(df_valioso)"
   ]
  },
  {
   "cell_type": "markdown",
   "id": "96504d56",
   "metadata": {},
   "source": [
    "### 6. Calcular o valor total do estoque por categoria\n",
    "* Agrupe os dados por Categoria e calcule a soma total de Valor_Estoque de cada categoria.\n",
    "* Ordene do maior para o menor.\n",
    "* Pode ser salvo como CSV ou exibido como gráfico."
   ]
  },
  {
   "cell_type": "code",
   "execution_count": 50,
   "id": "06a1c59d",
   "metadata": {},
   "outputs": [
    {
     "name": "stdout",
     "output_type": "stream",
     "text": [
      "Categoria\n",
      "Eletrônicos    4477677.37\n",
      "Higiene        4238200.02\n",
      "Limpeza        3804669.34\n",
      "Alimentos      3383136.59\n",
      "Name: Valor_Estoque, dtype: float64\n"
     ]
    },
    {
     "data": {
      "text/plain": [
       "<Axes: title={'center': 'Valor Total de Estoque por Categoria'}, xlabel='Categoria'>"
      ]
     },
     "execution_count": 50,
     "metadata": {},
     "output_type": "execute_result"
    },
    {
     "data": {
      "image/png": "[encoded data removed]",
      "text/plain": [
       "<Figure size 640x480 with 1 Axes>"
      ]
     },
     "metadata": {},
     "output_type": "display_data"
    }
   ],
   "source": [
    "valor_estoque_cat = df.groupby('Categoria')['Valor_Estoque'].sum().sort_values(ascending=False)\n",
    "print(valor_estoque_cat)\n",
    "valor_estoque_cat.plot(kind='bar', color='skyblue', title='Valor Total de Estoque por Categoria')"
   ]
  },
  {
   "cell_type": "markdown",
   "id": "077894ed",
   "metadata": {},
   "source": [
    "### 7. Classificar produtos em faixas de estoque\n",
    "* Adicione uma nova coluna chamada Nivel_Estoque com base na Quantidade:\n",
    "    * Baixo: Quantidade < 10\n",
    "    * Médio: entre 10 e 50\n",
    "    * Alto: > 50\n",
    "* Faça uma contagem por nível."
   ]
  },
  {
   "cell_type": "code",
   "execution_count": 51,
   "id": "275c5bd0",
   "metadata": {},
   "outputs": [
    {
     "name": "stdout",
     "output_type": "stream",
     "text": [
      "  Data_Atualizacao      Produto    Categoria  Quantidade  Preco_Unitario  \\\n",
      "0       29/03/2023      Monitor  Eletrônicos          97          398.63   \n",
      "1       30/08/2023  Desodorante      Higiene          45          272.30   \n",
      "2       07/12/2023        Arroz    Alimentos          34          487.97   \n",
      "3       15/07/2023  Sabão em Pó      Limpeza         181          419.03   \n",
      "4       14/08/2023     Notebook  Eletrônicos          87          458.93   \n",
      "\n",
      "   Valor_Estoque Nivel_Estoque  \n",
      "0       38667.11          Alto  \n",
      "1       12253.50         Medio  \n",
      "2       16590.98         Medio  \n",
      "3       75844.43          Alto  \n",
      "4       39926.91          Alto   \n",
      " Nivel_Estoque\n",
      "Alto     462\n",
      "Baixo     18\n",
      "Medio    120\n",
      "Name: Produto, dtype: int64\n"
     ]
    }
   ],
   "source": [
    "df['Nivel_Estoque'] = df['Quantidade'].map(lambda x: 'Baixo' if x < 10 else ('Alto' if x > 50 else 'Medio'))\n",
    "nivel_estoque = df.groupby('Nivel_Estoque')['Produto'].count()\n",
    "print(df.head(), '\\n', nivel_estoque)"
   ]
  },
  {
   "cell_type": "markdown",
   "id": "8f67a070",
   "metadata": {},
   "source": [
    "<center><b>Bônus (Opcional):</b></center>"
   ]
  },
  {
   "cell_type": "markdown",
   "id": "d06093af",
   "metadata": {},
   "source": [
    "### 8. Análise temporal\n",
    "* Converta a coluna Data_Atualizacao para o tipo datetime.\n",
    "* Agrupe por mês (ou trimestre) e calcule:\n",
    "    * Número de atualizações de estoque\n",
    "    * Quantidade média dos produtos atualizados\n",
    "* Gere uma visualização de linha temporal com esses dados."
   ]
  },
  {
   "cell_type": "code",
   "execution_count": 52,
   "id": "75ece6b6",
   "metadata": {},
   "outputs": [
    {
     "data": {
      "image/png": "[encoded data removed]",
      "text/plain": [
       "<Figure size 1000x500 with 1 Axes>"
      ]
     },
     "metadata": {},
     "output_type": "display_data"
    }
   ],
   "source": [
    "df['Data_Atualizacao'] = pd.to_datetime(df['Data_Atualizacao'], format='%d/%m/%Y')\n",
    "trimestre = df.groupby(pd.Grouper(key='Data_Atualizacao', freq='QE')).agg(\n",
    "    Num_Att=('Produto', 'count'),\n",
    "    Qtd_Media=('Quantidade', 'mean')\n",
    ").reset_index()\n",
    "\n",
    "plt.figure(figsize=(10, 5))\n",
    "plt.plot(trimestre['Data_Atualizacao'], trimestre['Num_Att'], marker='o', label='Número de Produtos')\n",
    "plt.plot(trimestre['Data_Atualizacao'], trimestre['Qtd_Media'], marker='o', label='Quantidade Média')\n",
    "plt.title('Linha Temporal por Trimestre')\n",
    "plt.xlabel('Trimestre')\n",
    "plt.ylabel('Quantidade')\n",
    "plt.legend()\n",
    "plt.grid()\n",
    "plt.show()"
   ]
  }
 ],
 "metadata": {
  "kernelspec": {
   "display_name": "lista_1-persist",
   "language": "python",
   "name": "python3"
  },
  "language_info": {
   "codemirror_mode": {
    "name": "ipython",
    "version": 3
   },
   "file_extension": ".py",
   "mimetype": "text/x-python",
   "name": "python",
   "nbconvert_exporter": "python",
   "pygments_lexer": "ipython3",
   "version": "3.12.9"
  }
 },
 "nbformat": 4,
 "nbformat_minor": 5
}
