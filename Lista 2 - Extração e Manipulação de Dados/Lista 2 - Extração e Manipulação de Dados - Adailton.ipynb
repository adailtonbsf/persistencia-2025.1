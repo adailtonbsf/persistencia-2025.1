{
 "cells": [
  {
   "cell_type": "markdown",
   "id": "223d7ea2",
   "metadata": {},
   "source": [
    "# Lista 2 - Extração e Manipulação de Dados"
   ]
  },
  {
   "cell_type": "markdown",
   "id": "0f461cd3",
   "metadata": {},
   "source": [
    "### 1. Scraping de Websites com BeautifulSoup\n",
    "- **Objetivo**: Praticar a extração de dados de um site usando scraping.\n",
    "- **Tarefa**: Usando a biblioteca BeautifulSoup, escreva um código que extraia e imprima o título e todos os links de uma página web. A URL pode ser qualquer página pública, como https://example.com."
   ]
  },
  {
   "cell_type": "code",
   "execution_count": 10,
   "id": "f6d3efe0",
   "metadata": {},
   "outputs": [
    {
     "name": "stdout",
     "output_type": "stream",
     "text": [
      "Título: Example Domain\n",
      "Links:\n",
      "https://www.iana.org/domains/example\n"
     ]
    }
   ],
   "source": [
    "from bs4 import BeautifulSoup\n",
    "import requests\n",
    "\n",
    "response = requests.get('https://example.com/')\n",
    "doc = BeautifulSoup(response.content, 'html.parser')\n",
    "\n",
    "title = doc.title.string\n",
    "links = doc.select(\"a[href]\")\n",
    "\n",
    "hrefs = [link.get('href') for link in links if link.get('href')]\n",
    "\n",
    "print(\"Título:\", title)\n",
    "print(\"Links:\")\n",
    "for href in hrefs:\n",
    "    print(href)"
   ]
  },
  {
   "cell_type": "markdown",
   "id": "97e8ea38",
   "metadata": {},
   "source": [
    "### 2. Extração de Texto  de Imagens com OCR\n",
    "- **Objetivo**: Extrair texto de imagens usando OCR.\n",
    "- **Tarefa**: Usando o pytesseract e PIL, escreva um código para carregar uma imagem, extrair o texto nela contido e salvar o resultado num arquivo txt."
   ]
  },
  {
   "cell_type": "code",
   "execution_count": 2,
   "id": "4484208b",
   "metadata": {},
   "outputs": [],
   "source": [
    "import pytesseract\n",
    "from PIL import Image\n",
    "\n",
    "image = Image.open(\"./exemplo.jpg\")\n",
    "\n",
    "text = pytesseract.image_to_string(image)\n",
    "with open(\"texto_extraído.txt\", \"w\") as file:\n",
    "    file.write(text)"
   ]
  },
  {
   "cell_type": "markdown",
   "id": "3d694240",
   "metadata": {},
   "source": [
    "### 3. Implementação Completa de um Extrator de Dados Estruturados e Não Estruturados\n",
    "- **Objetivo**: Integrar conhecimentos e simular um fluxo completo de extração de dados.\n",
    "- **Tarefa**: Escreva um código que possa extrair dados de um site (HTML), de um PDF e de uma imagem. O código deve identificar o tipo de cada arquivo, extrair as informações relevantes e exibi-las em um formato organizado."
   ]
  },
  {
   "cell_type": "code",
   "execution_count": 1,
   "id": "d5f457c4",
   "metadata": {},
   "outputs": [
    {
     "name": "stderr",
     "output_type": "stream",
     "text": [
      "CropBox missing from /Page, defaulting to MediaBox\n",
      "CropBox missing from /Page, defaulting to MediaBox\n",
      "CropBox missing from /Page, defaulting to MediaBox\n"
     ]
    },
    {
     "name": "stdout",
     "output_type": "stream",
     "text": [
      "Tipo de Arquivo: PDF\n",
      "Universidade Federal do Ceará\n",
      "Campus Quixadá\n",
      "QXD0099 - Desenvolvimento de Software para Persistência\n",
      "Prof. Francisco Victor da Silva Pinheiro\n",
      "Trabalho Prático 1 - Desenvolvimento de uma API REST para Gerenciamento de Entidades\n",
      "com Persistência em CSV com FastAPI\n",
      "Descrição Geral do Trabalho\n",
      "Neste trabalho, você irá desenvolver uma aplicação web que utiliza uma API REST criada com\n",
      "FastAPI para gerenciar entidades relacionadas ao domínio escolhido no Trabalho Prático 1 (TP1).\n",
      "O objetivo é praticar o desenvolvimento de APIs e manipulação de dados em Python, utilizando\n",
      "arquivos CSV para armazenamento dos dados. Além disso, funcionalidades extras como\n",
      "compactação de arquivos, cálculo de hash e logging (registro de operações) serão implementadas\n",
      "para simular um cenário real de aplicação com maior nível de controle e usabilidade.\n",
      "Passo a Passo do Trabalho\n",
      "1. Definir uma entidade e criar uma classe python\n",
      "● Objetivo: Escolher 3 entidades (\"objetos\" ou \"coisas\" representativas) que façam sentido\n",
      "no contexto do domínio escolhido no TP1. Essas entidades devem ter pelo menos cinco\n",
      "atributos cada.\n",
      "● Exemplo: Se o domínio for \"vendas\", vocês poderiam definir:\n",
      "○ 1. Produto: Representa um item à venda.\n",
      "■ Atributos: id, nome, categoria, preco, data_criacao\n",
      "○ 2. Cliente: Pessoa ou empresa que realiza compras.\n",
      "■ Atributos: id, nome, email, cpf_cnpj, data_cadastro\n",
      "○ 3. Pedido: Compra realizada por um cliente.\n",
      "■ Atributos: id, cliente_id, data_pedido, status, valor_total\n",
      "● Implementação: Você deve implementar uma classe Python para representar essa\n",
      "entidade usando a biblioteca pydantic, que ajudará a garantir que os dados fornecidos\n",
      "estão no formato esperado.\n",
      "2. Criar uma API REST com FastAPI\n",
      "Usando FastAPI, você deve criar endpoints para implementar cada funcionalidade solicitada.\n",
      "Cada funcionalidade será implementada em um endpoint específico. Abaixo estão os detalhes de\n",
      "cada funcionalidade que a API deverá oferecer.\n",
      "Funcionalidades da API\n",
      "F1. CRUD completo das entidades\n",
      "● Objetivo: Implementar endpoints para as operações de Create (criar), Read (ler), Update\n",
      "(atualizar) e Delete (excluir) para a entidade.\n",
      "1\n",
      "● Detalhes: O CRUD permite que o usuário realize todas as operações fundamentais para\n",
      "gerenciar uma entidade. Em todos os casos, o arquivo CSV deverá ser atualizado\n",
      "conforme as mudanças. As operações incluem:\n",
      "○ Criar: Já implementado no F1.\n",
      "○ Ler: Listagem de todos os registros, conforme F2.\n",
      "○ Atualizar: Modificar um registro específico no CSV.\n",
      "○ Excluir: Remover um registro específico do CSV.\n",
      "● Exemplo: O usuário poderá modificar o nome de um produto ou excluir um produto\n",
      "específico.\n",
      "F2. Listar todas as entidades do CSV\n",
      "● Objetivo: Implementar um endpoint para retornar todos os registros da entidade.\n",
      "● Detalhes: O endpoint deverá ler o arquivo CSV e retornar todas as entidades cadastradas\n",
      "em formato JSON. Isso permitirá visualizar todos os dados que foram cadastrados até o\n",
      "momento.\n",
      "● Exemplo: Se houver três produtos cadastrados no CSV, ao acessar esse endpoint, o\n",
      "usuário verá um JSON contendo os três produtos.\n",
      "F3. Mostrar a quantidade de entidades\n",
      "● Objetivo: Implementar um endpoint para mostrar a quantidade total de entidades\n",
      "cadastradas.\n",
      "● Detalhes: Este endpoint deve contar o número de linhas no arquivo CSV e retornar essa\n",
      "contagem ao usuário. Importante: deve refletir a contagem real, mesmo que alguém edite o\n",
      "CSV externamente (fora do sistema).\n",
      "● Exemplo: Se há 10 produtos cadastrados no CSV, o endpoint deve retornar {\n",
      "\"quantidade\": 10 }.\n",
      "F4. Compactar o arquivo CSV em ZIP\n",
      "● Objetivo: Implementar um endpoint para compactar o arquivo CSV em um arquivo ZIP\n",
      "e disponibilizar o download do arquivo compactado.\n",
      "● Detalhes: Esse endpoint deve criar um arquivo ZIP contendo o CSV e permitir que o\n",
      "usuário faça o download. Isso é útil para backup ou exportação dos dados.\n",
      "● Exemplo: Quando acessado, o endpoint deve retornar o arquivo produtos.zip contendo\n",
      "produtos.csv.\n",
      "F5. Filtrar entidades por atributos específicos\n",
      "● Objetivo: Implementar um endpoint para filtrar as entidades cadastradas com base em\n",
      "atributos específicos.\n",
      "● Detalhes: O usuário pode fornecer parâmetros de filtragem, como categoria ou intervalo\n",
      "de preço. A API deve retornar apenas às entidades que atenderem aos critérios definidos.\n",
      "● Exemplo: Se a entidade Produto tiver um atributo categoria, o usuário poderá filtrar para\n",
      "ver apenas os produtos de uma categoria específica, como \"Eletrônicos\".\n",
      "F6. Retornar o Hash SHA256 do Arquivo CSV\n",
      "● Objetivo: Implementar um endpoint para calcular e retornar o hash SHA256 do arquivo\n",
      "CSV.\n",
      "2\n"
     ]
    },
    {
     "name": "stderr",
     "output_type": "stream",
     "text": [
      "CropBox missing from /Page, defaulting to MediaBox\n",
      "CropBox missing from /Page, defaulting to MediaBox\n",
      "CropBox missing from /Page, defaulting to MediaBox\n"
     ]
    },
    {
     "name": "stdout",
     "output_type": "stream",
     "text": [
      "● Detalhes: Esse endpoint deve calcular o hash SHA256 do arquivo CSV e retornar o valor\n",
      "do hash em formato de texto. Esse hash pode ser utilizado para verificar a integridade dos\n",
      "dados, comparando se a versão do CSV não foi alterada desde a última vez que o hash foi\n",
      "gerado.\n",
      "● Exemplo: Quando acessado, o endpoint deve retornar algo como { \"hash_sha256\":\n",
      "\"e3b0c44298fc1c149afbf4c8996fb92427ae41e4649b934ca495991b7852b855\" }.\n",
      "F7. Implementar um sistema de logs\n",
      "● Objetivo: Adicionar um sistema de logging para registrar as operações realizadas na API.\n",
      "● Detalhes: Cada operação executada na API, como inserções, exclusões ou falhas, deve\n",
      "ser registrada em um arquivo de log para fins de auditoria e monitoramento. Esse log\n",
      "ajudará a rastrear o histórico de interações com a API.\n",
      "● Exemplo: Quando um novo produto for adicionado, o sistema deve registrar uma\n",
      "mensagem como \"Produto inserido com sucesso\" com a data e hora da operação.\n",
      "F8. Converter o arquivo CSV em XML\n",
      "● Objetivo: Implementar um endpoint que converta os dados do CSV em um arquivo XML.\n",
      "● Detalhes: Este endpoint deve ler os dados do arquivo CSV da entidade e gerar um arquivo\n",
      "XML correspondente, mantendo a estrutura e os valores dos atributos. O XML gerado\n",
      "deverá ser disponibilizado para download.\n",
      "● Exemplo: Se o CSV produtos.csv contiver três produtos, o endpoint deve gerar um arquivo\n",
      "produtos.xml. O arquivo XML deve seguir o nome do CSV (ex: clientes.csv → clientes.xml)\n",
      "e respeitar a codificação UTF-8.\n",
      "Observações\n",
      "● O trabalho exige 3 entidades distintas, cada uma com seu próprio arquivo CSV.\n",
      "● Cada CSV armazenará os dados apenas da sua entidade.\n",
      "● Todas as funcionalidades (CRUD, filtros, hash, XML etc.) serão aplicadas individualmente\n",
      "para cada entidade.\n",
      "● A API terá rotas separadas para cada entidade (ex: /produtos, /clientes, /pedidos).\n",
      "● Cada endpoint manipula somente o CSV da entidade correspondente.\n",
      "● As funcionalidades devem ser reutilizáveis, mas tratando cada entidade de forma\n",
      "independente.\n",
      "Pontos importantes\n",
      "● O CSV deve ser povoado com dados antes da apresentação do trabalho em sala. Todos\n",
      "os membros da dupla devem estar em sala para apresentar o trabalho.\n",
      "● Deve ser elaborado um relatório descrevendo as atividades realizadas por cada membro\n",
      "da dupla. o relatório deve detalhar as atividades realizadas, bem como apontar o que não\n",
      "foi concluído, se aplicável.\n",
      "\"A melhor maneira de predizer o futuro é inventá-lo.\"\n",
      "Alan Kay\n",
      "3\n"
     ]
    }
   ],
   "source": [
    "import pytesseract\n",
    "import pdfplumber\n",
    "from bs4 import BeautifulSoup\n",
    "from PIL import Image\n",
    "\n",
    "caminho_arquivo = \"exemplo.pdf\"\n",
    "\n",
    "imagens_suportadas = [ \"png\", \"jpg\", \"jpeg\", \"tif\", \"tiff\", \"bmp\", \"gif\", \"webp\" ]\n",
    "\n",
    "if(caminho_arquivo.endswith(\".html\")):\n",
    "    print(\"Tipo de Arquivo: HTML\")\n",
    "    with open(caminho_arquivo, encoding=\"utf-8\") as file:\n",
    "        doc = BeautifulSoup(file, \"html.parser\")\n",
    "        title = doc.title.string\n",
    "        links = doc.select(\"a[href]\")\n",
    "        hrefs = [link.get('href') for link in links if link.get('href')]\n",
    "\n",
    "        print(\"Título:\", title)\n",
    "        print(\"Links:\")\n",
    "        for href in hrefs:\n",
    "            print(href) \n",
    "elif(caminho_arquivo.endswith(\".pdf\")):\n",
    "    print(\"Tipo de Arquivo: PDF\")\n",
    "    with pdfplumber.open(caminho_arquivo) as pdf:\n",
    "        for page in pdf.pages:\n",
    "            print(page.extract_text())\n",
    "elif(caminho_arquivo.split(\".\")[-1] in imagens_suportadas):\n",
    "    print(\"Tipo de Arquivo: IMAGEM\")\n",
    "    image = Image.open(caminho_arquivo)\n",
    "\n",
    "    text = pytesseract.image_to_string(image)\n",
    "    with open(\"texto_extraído.txt\", \"w\") as file:\n",
    "        print(text)"
   ]
  }
 ],
 "metadata": {
  "kernelspec": {
   "display_name": "base",
   "language": "python",
   "name": "python3"
  },
  "language_info": {
   "codemirror_mode": {
    "name": "ipython",
    "version": 3
   },
   "file_extension": ".py",
   "mimetype": "text/x-python",
   "name": "python",
   "nbconvert_exporter": "python",
   "pygments_lexer": "ipython3",
   "version": "3.12.7"
  }
 },
 "nbformat": 4,
 "nbformat_minor": 5
}
